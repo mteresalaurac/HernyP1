{
 "cells": [
  {
   "cell_type": "code",
   "execution_count": 1,
   "metadata": {},
   "outputs": [
    {
     "data": {
      "text/html": [
       "<div>\n",
       "<style scoped>\n",
       "    .dataframe tbody tr th:only-of-type {\n",
       "        vertical-align: middle;\n",
       "    }\n",
       "\n",
       "    .dataframe tbody tr th {\n",
       "        vertical-align: top;\n",
       "    }\n",
       "\n",
       "    .dataframe thead th {\n",
       "        text-align: right;\n",
       "    }\n",
       "</style>\n",
       "<table border=\"1\" class=\"dataframe\">\n",
       "  <thead>\n",
       "    <tr style=\"text-align: right;\">\n",
       "      <th></th>\n",
       "      <th>user_id</th>\n",
       "      <th>item_id</th>\n",
       "      <th>item_name</th>\n",
       "      <th>horas</th>\n",
       "      <th>genres</th>\n",
       "      <th>app_name</th>\n",
       "      <th>date</th>\n",
       "      <th>price</th>\n",
       "    </tr>\n",
       "  </thead>\n",
       "  <tbody>\n",
       "    <tr>\n",
       "      <th>171267</th>\n",
       "      <td>PWNSTARS</td>\n",
       "      <td>32660.0</td>\n",
       "      <td>Delta Force: Xtreme</td>\n",
       "      <td>9.000000</td>\n",
       "      <td>['Action']</td>\n",
       "      <td>Delta Force: Xtreme</td>\n",
       "      <td>2005</td>\n",
       "      <td>19.99</td>\n",
       "    </tr>\n",
       "    <tr>\n",
       "      <th>171268</th>\n",
       "      <td>sIuttrak</td>\n",
       "      <td>473460.0</td>\n",
       "      <td>Memory Oblivion Box</td>\n",
       "      <td>9.716667</td>\n",
       "      <td>['Adventure', 'Casual', 'Indie']</td>\n",
       "      <td>Memory Oblivion Box</td>\n",
       "      <td>2016</td>\n",
       "      <td>9.99</td>\n",
       "    </tr>\n",
       "    <tr>\n",
       "      <th>171269</th>\n",
       "      <td>Steamified</td>\n",
       "      <td>333100.0</td>\n",
       "      <td>Demesne</td>\n",
       "      <td>0.366667</td>\n",
       "      <td>['Adventure', 'Indie', 'Simulation', 'Early Ac...</td>\n",
       "      <td>Demesne</td>\n",
       "      <td>2016</td>\n",
       "      <td>19.99</td>\n",
       "    </tr>\n",
       "  </tbody>\n",
       "</table>\n",
       "</div>"
      ],
      "text/plain": [
       "           user_id   item_id            item_name     horas  \\\n",
       "171267    PWNSTARS   32660.0  Delta Force: Xtreme  9.000000   \n",
       "171268    sIuttrak  473460.0  Memory Oblivion Box  9.716667   \n",
       "171269  Steamified  333100.0              Demesne  0.366667   \n",
       "\n",
       "                                                   genres  \\\n",
       "171267                                         ['Action']   \n",
       "171268                   ['Adventure', 'Casual', 'Indie']   \n",
       "171269  ['Adventure', 'Indie', 'Simulation', 'Early Ac...   \n",
       "\n",
       "                   app_name  date  price  \n",
       "171267  Delta Force: Xtreme  2005  19.99  \n",
       "171268  Memory Oblivion Box  2016   9.99  \n",
       "171269              Demesne  2016  19.99  "
      ]
     },
     "execution_count": 1,
     "metadata": {},
     "output_type": "execute_result"
    }
   ],
   "source": [
    "import pandas as pd\n",
    "\n",
    "#Importo el archivo de GAMES\n",
    "games=pd.read_csv(\"Archivos_MVP/games_mvp.csv\",encoding=\"latin-1\")\n",
    "\n",
    "#Importo el archivo de REVIEWS\n",
    "reviews= pd.read_parquet(\"Archivos_MVP/reviews_mvp.parquet\")\n",
    "\n",
    "#Importo el archivo de ITEMS\n",
    "items=pd.read_parquet(\"Archivos_MVP/item_mvp.parquet\")\n",
    "\n",
    "#DataFrame joineado para funciones 1) y 2). Voy a unir games con items\n",
    "\n",
    "#Join los dfs: \"items\" con \"games\"\n",
    "#En la tabla items tengo la cantidad de horas jugadas para cada usuario por cada juego (item)\n",
    "#Asocio a esta tabla el genero del juego\n",
    "#Las uno mediante item_id \n",
    "\n",
    "items['item_id'] = items['item_id'].astype(float) #Necesito igualar el tipo de dato para poder joinear las tablas \n",
    "df= pd.merge(items, games, on='item_id', how='inner')\n",
    "df.tail(3)   #df que voy a utlizar en la funcion"
   ]
  },
  {
   "cell_type": "code",
   "execution_count": 2,
   "metadata": {},
   "outputs": [
    {
     "name": "stdout",
     "output_type": "stream",
     "text": [
      "Año de lanzamiento con más horas jugadas para género: casual --> 2012\n",
      "Cantidad de horas jugadas en dicho año: 10588\n"
     ]
    }
   ],
   "source": [
    "#FUNCION 1:  PlayTimeGenre\n",
    "# 1) Paso toda al columna de generos a minuscula \n",
    "df['genres'] = df['genres'].str.lower()\n",
    "#df['genres'].tail(5)\n",
    "\n",
    "# 2) Filtro los valores que contienen el genero que me interesa\n",
    "genero=\"casual\"\n",
    "df_filtrado = df[df.filter(like='genres').apply(lambda x: x.str.contains(genero)).any(axis=1)] \n",
    "#df_filtrado['genres'].tail(5)\n",
    "##Me devuelve los valores booleanos True que cumplen la condicion del filtro.\n",
    "\n",
    "\n",
    "#Ya seleccione los datos  que necesito. Me falta agruparlos y sumar las horas de juego por año.\n",
    "#3) Agrupo los valores por año en cada caso.\n",
    "\n",
    "df_ordenado=df_filtrado[[\"date\",\"horas\"]].groupby([\"horas\"]).sum().sort_values(by='horas',ascending=False)\n",
    "\n",
    "#df_ordenado.head(10)\n",
    "\n",
    "df_ordenado.reset_index(inplace=True) #Agrego el indice\n",
    "df_ordenado.head(10)\n",
    "\n",
    "\n",
    "#df_filtrado[\"date\"].value_counts()\n",
    "\n",
    "#df_ordenado['horas'] = df_ordenado['horas'].astype(int)\n",
    "\n",
    "df_ordenado.head(100)\n",
    "\n",
    "#print(int(df_ordenado[\"horas\"].iloc[0]))\n",
    "#print(df_ordenado[\"date\"].iloc[0])\n",
    "\n",
    "\n",
    "print(f\"Año de lanzamiento con más horas jugadas para género: {genero} --> {df_ordenado.date.iloc[0]}\")\n",
    "print(f\"Cantidad de horas jugadas en dicho año: {int(df_ordenado.horas.iloc[0])}\")"
   ]
  },
  {
   "cell_type": "code",
   "execution_count": 3,
   "metadata": {},
   "outputs": [
    {
     "name": "stdout",
     "output_type": "stream",
     "text": [
      "Año de lanzamiento con más horas jugadas para género CASUAL: 2012\n",
      "Cantidad de horas jugadas en dicho año: 10588\n"
     ]
    }
   ],
   "source": [
    "#Resumen de Funcion 1: \n",
    "\n",
    "# 1) Paso toda al columna de generos a minuscula \n",
    "df['genres'] = df['genres'].str.lower()\n",
    "\n",
    "# 2) Filtro los valores que contienen el genero que me interesa\n",
    "genero=\"casual\" # a modo prueba\n",
    "genero=genero.lower()\n",
    "df_filtrado = df[df.filter(like='genres').apply(lambda x: x.str.contains(genero)).any(axis=1)] \n",
    "\n",
    "#3) Agrupo los valores por año.\n",
    "df_ordenado=df_filtrado[[\"date\",\"horas\"]].groupby([\"horas\"]).sum().sort_values(by='horas',ascending=False)\n",
    "\n",
    "#4) Reseteo indice numerico para ver las posiciones\n",
    "df_ordenado.reset_index(inplace=True)\n",
    "df_ordenado.head(100)\n",
    "\n",
    "# 4) Imprimo resultado de funcion\n",
    "print(f\"Año de lanzamiento con más horas jugadas para género {genero.upper()}: {df_ordenado.date.iloc[0]}\")\n",
    "print(f\"Cantidad de horas jugadas en dicho año: {int(df_ordenado.horas.iloc[0])}\")"
   ]
  },
  {
   "cell_type": "code",
   "execution_count": 7,
   "metadata": {},
   "outputs": [
    {
     "name": "stdout",
     "output_type": "stream",
     "text": [
      "Cantidad de horas jugadas en dicho año: 7331\n"
     ]
    }
   ],
   "source": [
    "#Primera Funcion\n",
    "\n",
    "def PlayTimeGenre( genero : str ):\n",
    "    genero=genero.lower() #lo paso a minusculas por si esta escrito con mayusculas\n",
    "    # 1) Paso toda al columna de generos a minuscula\n",
    "    df['genres'] = df['genres'].str.lower()\n",
    "    \n",
    "    # 2) Filtro los valores que contienen el genero que me interesa\n",
    "    #genero=\"action\" # a modo prueba\n",
    "    df_filtrado = df[df.filter(like='genres').apply(lambda x: x.str.contains(genero)).any(axis=1)] \n",
    "    \n",
    "    #3) Agrupo los valores por año.\n",
    "    df_ordenado=df_filtrado[[\"date\",\"horas\"]].groupby([\"horas\"]).sum().sort_values(by='horas',ascending=False)\n",
    "    \n",
    "    #4) Reseteo con indices numericos\n",
    "    df_ordenado.reset_index(inplace=True) #Agrego el indice para ver las posiciones\n",
    "    \n",
    "    #5) Imprimo resultado de funcion\n",
    "    \n",
    "    return print(f\"Cantidad de horas jugadas en dicho año: {int(df_ordenado.horas.iloc[0])}\")\n",
    "\n",
    "\n",
    "PlayTimeGenre(\"strategy\")"
   ]
  },
  {
   "cell_type": "code",
   "execution_count": 5,
   "metadata": {},
   "outputs": [
    {
     "name": "stdout",
     "output_type": "stream",
     "text": [
      "Usuario con mas horas jugadas para género CASUAL: Evilutional\n",
      "El Año: 2012 jugó 10588 horas \n"
     ]
    },
    {
     "name": "stderr",
     "output_type": "stream",
     "text": [
      "/var/folders/lh/p6j3glj52sq44ch3v_6_hltc0000gn/T/ipykernel_1527/1943821687.py:21: SettingWithCopyWarning: \n",
      "A value is trying to be set on a copy of a slice from a DataFrame\n",
      "\n",
      "See the caveats in the documentation: https://pandas.pydata.org/pandas-docs/stable/user_guide/indexing.html#returning-a-view-versus-a-copy\n",
      "  df_filtrado.rename(columns={'date': 'year'}, inplace=True)\n"
     ]
    }
   ],
   "source": [
    "#FUNCION 2:  UserForGenre\n",
    "# 1) Paso toda la columna de generos a minuscula \n",
    "df['genres'] = df['genres'].str.lower()\n",
    "genero=genero.lower() #paso a minuscula en caso de que no este de la misma forma\n",
    "\n",
    "# 2) Filtro los valores que contienen el genero que me interesa\n",
    "#genero=\"action\"\n",
    "df_filtrado = df[df.filter(like='genres').apply(lambda x: x.str.contains(genero)).any(axis=1)] \n",
    "df_filtrado['genres'].tail(5)   #Me devuelve los valores booleanos True que cumplen la condicion del filtro.\n",
    "\n",
    "#3) Creo un nuevo df para ver la cant de horas por jugador/userid\n",
    "df_ordenado=df_filtrado[[\"user_id\",\"horas\"]].groupby([\"horas\"]).sum().sort_values(by='horas',ascending=False)\n",
    "#df_ordenado.head(5)\n",
    "\n",
    "# 4)Como ordene de Mayor a Menor, obtengo el primer valor de user_id que corresponde al que mas horas jugo\n",
    "userid_maxhoras=df_ordenado[\"user_id\"].iloc[0]\n",
    "\n",
    "print(f\"Usuario con mas horas jugadas para género {genero.upper()}: {userid_maxhoras}\")\n",
    "\n",
    "# 5)Renombro la columna que contiene el anio, para evitar confusiones\n",
    "df_filtrado.rename(columns={'date': 'year'}, inplace=True)   \n",
    "#df_filtrado.head(5)\n",
    "\n",
    "# 6)Ya conozco el user id, creo una mascara para quedarme solamente con los datos del user id max horas\n",
    "df_filtrado = df_filtrado[df_filtrado[\"user_id\"]==userid_maxhoras]\n",
    "#df_filtrado.head(5)\n",
    "\n",
    "#5) Me falta mostrar los valores por anio\n",
    "horas_por_anio = df_filtrado.groupby('year')['horas'].sum()\n",
    "\n",
    "#6) Creo un dataframe con los valores de la serie que cree\n",
    "df_horas_por_anio = pd.DataFrame({'Año': horas_por_anio.index, 'Horas': horas_por_anio.values})\n",
    "\n",
    "#7) Recorro el diccionario para \n",
    "for indice, fila in df_horas_por_anio.iterrows():\n",
    "  año = int(fila['Año'])\n",
    "  horas_jugadas = int(fila['Horas'])\n",
    "  print(f\"El Año: {año} jugó {horas_jugadas} horas \")"
   ]
  },
  {
   "cell_type": "code",
   "execution_count": 6,
   "metadata": {},
   "outputs": [
    {
     "name": "stdout",
     "output_type": "stream",
     "text": [
      "Usuario con mas horas jugadas para género ACTION: Evilutional\n",
      "El Año: 2012 jugó 10641 horas \n",
      "El Año: 2017 jugó 175 horas \n"
     ]
    },
    {
     "name": "stderr",
     "output_type": "stream",
     "text": [
      "/var/folders/lh/p6j3glj52sq44ch3v_6_hltc0000gn/T/ipykernel_1527/2992340060.py:20: SettingWithCopyWarning: \n",
      "A value is trying to be set on a copy of a slice from a DataFrame\n",
      "\n",
      "See the caveats in the documentation: https://pandas.pydata.org/pandas-docs/stable/user_guide/indexing.html#returning-a-view-versus-a-copy\n",
      "  df_filtrado.rename(columns={'date': 'year'}, inplace=True)\n"
     ]
    }
   ],
   "source": [
    "#Segunda Funcion\n",
    "\n",
    "def UserForGenre( genero : str ):\n",
    "    # 1) Paso toda la columna de generos a minuscula y el parametro tambien\n",
    "    df['genres'] = df['genres'].str.lower()\n",
    "    genero=genero.lower()\n",
    "    \n",
    "    # 2) Filtro los valores que contienen el genero que me interesa\n",
    "    #genero=\"action\"\n",
    "    df_filtrado = df[df.filter(like='genres').apply(lambda x: x.str.contains(genero)).any(axis=1)]\n",
    "    \n",
    "    #3) Creo un nuevo df para ver la cant de horas por jugador/userid\n",
    "    df_ordenado=df_filtrado[[\"user_id\",\"horas\"]].groupby([\"horas\"]).sum().sort_values(by='horas',ascending=False)\n",
    "    \n",
    "    # 4)Como ordene de Mayor a Menor, obtengo el primer valor de user_id que corresponde al que mas horas jugo\n",
    "    userid_maxhoras=df_ordenado[\"user_id\"].iloc[0]\n",
    "    print(f\"Usuario con mas horas jugadas para género {genero.upper()}: {userid_maxhoras}\")\n",
    "    \n",
    "    # 5)Renombro la columna que contiene el anio, para evitar confusiones\n",
    "    df_filtrado.rename(columns={'date': 'year'}, inplace=True)\n",
    "    \n",
    "    # 6)Ya conozco el user id, creo una mascara para quedarme solamente con los datos del user id max horas\n",
    "    df_filtrado = df_filtrado[df_filtrado[\"user_id\"]==userid_maxhoras]\n",
    "    \n",
    "    #5) Agrupo las horas por anio\n",
    "    horas_por_anio = df_filtrado.groupby('year')['horas'].sum()\n",
    "    \n",
    "    #6) Creo un dataframe con los valores de la serie que cree\n",
    "    df_horas_por_anio = pd.DataFrame({'Año': horas_por_anio.index, 'Horas': horas_por_anio.values})\n",
    "    \n",
    "    #7) Recorro el diccionario para \n",
    "    for indice, fila in df_horas_por_anio.iterrows():\n",
    "        año = int(fila['Año'])\n",
    "        horas_jugadas = int(fila['Horas'])\n",
    "        print(f\"El Año: {año} jugó {horas_jugadas} horas \")\n",
    "        \n",
    "    return\n",
    "\n",
    "UserForGenre(\"Action\")"
   ]
  }
 ],
 "metadata": {
  "kernelspec": {
   "display_name": "Python 3",
   "language": "python",
   "name": "python3"
  },
  "language_info": {
   "codemirror_mode": {
    "name": "ipython",
    "version": 3
   },
   "file_extension": ".py",
   "mimetype": "text/x-python",
   "name": "python",
   "nbconvert_exporter": "python",
   "pygments_lexer": "ipython3",
   "version": "3.11.2"
  },
  "orig_nbformat": 4
 },
 "nbformat": 4,
 "nbformat_minor": 2
}
